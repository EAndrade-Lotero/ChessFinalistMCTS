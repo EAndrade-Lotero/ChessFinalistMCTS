{
 "cells": [
  {
   "cell_type": "markdown",
   "id": "984f02cc",
   "metadata": {},
   "source": [
    "# Test Monte Carlo Tree Search"
   ]
  },
  {
   "cell_type": "code",
   "execution_count": 1,
   "id": "4fbf191e",
   "metadata": {},
   "outputs": [],
   "source": [
    "import sys\n",
    "\n",
    "sys.path.append('../src')\n",
    "\n",
    "from games.chess import KRK\n",
    "from mcts.trees import GameSearchTree"
   ]
  },
  {
   "cell_type": "code",
   "execution_count": 2,
   "id": "cd918f67",
   "metadata": {},
   "outputs": [],
   "source": [
    "game = KRK()\n",
    "state = game.initial_state"
   ]
  },
  {
   "cell_type": "code",
   "execution_count": null,
   "id": "4c20d693",
   "metadata": {},
   "outputs": [
    {
     "ename": "TypeError",
     "evalue": "'ellipsis' object is not callable",
     "output_type": "error",
     "traceback": [
      "\u001b[31m---------------------------------------------------------------------------\u001b[39m",
      "\u001b[31mTypeError\u001b[39m                                 Traceback (most recent call last)",
      "\u001b[36mCell\u001b[39m\u001b[36m \u001b[39m\u001b[32mIn[3]\u001b[39m\u001b[32m, line 7\u001b[39m\n\u001b[32m      1\u001b[39m params = {\n\u001b[32m      2\u001b[39m     \u001b[33m\"\u001b[39m\u001b[33msim_limit\u001b[39m\u001b[33m\"\u001b[39m:\u001b[32m3\u001b[39m,\n\u001b[32m      3\u001b[39m     \u001b[33m\"\u001b[39m\u001b[33mbeam_width\u001b[39m\u001b[33m\"\u001b[39m:\u001b[32m5\u001b[39m,\n\u001b[32m      4\u001b[39m     \u001b[33m\"\u001b[39m\u001b[33mucb_constant\u001b[39m\u001b[33m\"\u001b[39m:\u001b[32m1\u001b[39m\n\u001b[32m      5\u001b[39m }\n\u001b[32m----> \u001b[39m\u001b[32m7\u001b[39m tree = \u001b[43mGameSearchTree\u001b[49m\u001b[43m(\u001b[49m\n\u001b[32m      8\u001b[39m \u001b[43m    \u001b[49m\u001b[43mstate\u001b[49m\u001b[43m=\u001b[49m\u001b[43mstate\u001b[49m\u001b[43m,\u001b[49m\n\u001b[32m      9\u001b[39m \u001b[43m    \u001b[49m\u001b[43mgame\u001b[49m\u001b[43m=\u001b[49m\u001b[43mgame\u001b[49m\u001b[43m,\u001b[49m\n\u001b[32m     10\u001b[39m \u001b[43m    \u001b[49m\u001b[43mrollout_policy\u001b[49m\u001b[43m=\u001b[49m\u001b[43m.\u001b[49m\u001b[43m.\u001b[49m\u001b[43m.\u001b[49m\u001b[43m,\u001b[49m\n\u001b[32m     11\u001b[39m \u001b[43m    \u001b[49m\u001b[43m*\u001b[49m\u001b[43m*\u001b[49m\u001b[43mparams\u001b[49m\n\u001b[32m     12\u001b[39m \u001b[43m)\u001b[49m\n",
      "\u001b[36mFile \u001b[39m\u001b[32m~/Documents/GitHub/ChessFinalistMCTS/notebooks/../src/mcts/trees.py:163\u001b[39m, in \u001b[36mGameSearchTree.__init__\u001b[39m\u001b[34m(self, state, game, rollout_policy, sim_limit, beam_width, ucb_constant)\u001b[39m\n\u001b[32m    161\u001b[39m \u001b[38;5;66;03m# First expansion populates frontier and per-move stats\u001b[39;00m\n\u001b[32m    162\u001b[39m \u001b[38;5;28mself\u001b[39m._root_actions: List[Any]\n\u001b[32m--> \u001b[39m\u001b[32m163\u001b[39m \u001b[38;5;28mself\u001b[39m.action_stats = \u001b[38;5;28;43mself\u001b[39;49m\u001b[43m.\u001b[49m\u001b[43m_expand_root\u001b[49m\u001b[43m(\u001b[49m\u001b[43m)\u001b[49m\n",
      "\u001b[36mFile \u001b[39m\u001b[32m~/Documents/GitHub/ChessFinalistMCTS/notebooks/../src/mcts/trees.py:243\u001b[39m, in \u001b[36mGameSearchTree._expand_root\u001b[39m\u001b[34m(self)\u001b[39m\n\u001b[32m    240\u001b[39m     stats[\u001b[38;5;28mstr\u001b[39m(a)] = NodeValue(\u001b[32m1\u001b[39m, \u001b[32m1\u001b[39m)\n\u001b[32m    241\u001b[39m     \u001b[38;5;28;01mcontinue\u001b[39;00m\n\u001b[32m--> \u001b[39m\u001b[32m243\u001b[39m a_black = \u001b[38;5;28;43mself\u001b[39;49m\u001b[43m.\u001b[49m\u001b[43mrollout_policy\u001b[49m\u001b[43m(\u001b[49m\u001b[43ms_white\u001b[49m\u001b[43m)\u001b[49m\n\u001b[32m    244\u001b[39m s_black = \u001b[38;5;28mself\u001b[39m.game.resultado(s_white, a_black)\n\u001b[32m    246\u001b[39m child = SearchTreeNode(\n\u001b[32m    247\u001b[39m     s_black, node, a, NodeValue(\u001b[32m0\u001b[39m, \u001b[32m0\u001b[39m), \u001b[38;5;28mself\u001b[39m.ucb_constant\n\u001b[32m    248\u001b[39m )\n",
      "\u001b[31mTypeError\u001b[39m: 'ellipsis' object is not callable"
     ]
    }
   ],
   "source": [
    "params = {\n",
    "    \"sim_limit\": 3,\n",
    "    \"beam_width\": 5,\n",
    "    \"ucb_constant\": 1\n",
    "}\n",
    "\n",
    "tree = GameSearchTree(\n",
    "    state=state,\n",
    "    game=game,\n",
    "    rollout_policy=...,\n",
    "    **params\n",
    ")"
   ]
  },
  {
   "cell_type": "code",
   "execution_count": null,
   "id": "cd4c7ebe",
   "metadata": {},
   "outputs": [],
   "source": []
  },
  {
   "cell_type": "markdown",
   "id": "01645670",
   "metadata": {},
   "source": [
    "---"
   ]
  }
 ],
 "metadata": {
  "kernelspec": {
   "display_name": "Python 3 (ipykernel)",
   "language": "python",
   "name": "python3"
  },
  "language_info": {
   "codemirror_mode": {
    "name": "ipython",
    "version": 3
   },
   "file_extension": ".py",
   "mimetype": "text/x-python",
   "name": "python",
   "nbconvert_exporter": "python",
   "pygments_lexer": "ipython3",
   "version": "3.13.3"
  }
 },
 "nbformat": 4,
 "nbformat_minor": 5
}
