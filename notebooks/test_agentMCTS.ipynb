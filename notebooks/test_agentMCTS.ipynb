{
 "cells": [
  {
   "cell_type": "markdown",
   "id": "95453efc",
   "metadata": {},
   "source": [
    "# Test agent"
   ]
  },
  {
   "cell_type": "code",
   "execution_count": 1,
   "id": "8d2b4ebf",
   "metadata": {},
   "outputs": [],
   "source": [
    "import numpy as np\n",
    "from numpy.random import default_rng\n",
    "\n",
    "from chess import Board\n",
    "from IPython.display import Image, display\n",
    "from stable_baselines3.common.env_checker import check_env\n",
    "\n",
    "import sys\n",
    "\n",
    "sys.path.append('../src')\n",
    "\n",
    "from games.chess import KRK\n",
    "from agents.utils import ChessEncoder\n",
    "from agents.random_agent import RandomAgent\n",
    "from agents.random_policy import GameUniformPolicy\n",
    "from games.game_utils import GymEnvFromGameAndPlayer2"
   ]
  },
  {
   "cell_type": "markdown",
   "id": "c743eaad",
   "metadata": {},
   "source": [
    "### Initialize game and other agent"
   ]
  },
  {
   "cell_type": "code",
   "execution_count": 2,
   "id": "fc833506",
   "metadata": {},
   "outputs": [],
   "source": [
    "seed = 4\n",
    "rng = default_rng(seed)"
   ]
  },
  {
   "cell_type": "code",
   "execution_count": 3,
   "id": "ad8ccad0",
   "metadata": {},
   "outputs": [],
   "source": [
    "game = KRK(start_position=1)\n",
    "random_policy = GameUniformPolicy(game, rng)\n",
    "pl2 = RandomAgent(\n",
    "    policy=random_policy,\n",
    "    n_actions=124,\n",
    "    rng=rng\n",
    ")"
   ]
  },
  {
   "cell_type": "code",
   "execution_count": 4,
   "id": "dcd6d656",
   "metadata": {},
   "outputs": [],
   "source": [
    "env = GymEnvFromGameAndPlayer2(\n",
    "    game=game,\n",
    "    other_player=pl2,\n",
    "    encoder=ChessEncoder()\n",
    ")"
   ]
  },
  {
   "cell_type": "code",
   "execution_count": 5,
   "id": "bf80cc70",
   "metadata": {},
   "outputs": [
    {
     "name": "stderr",
     "output_type": "stream",
     "text": [
      "c:\\Users\\andra\\anaconda3\\envs\\RLenv\\Lib\\site-packages\\stable_baselines3\\common\\env_checker.py:272: UserWarning: Your observation  has an unconventional shape (neither an image, nor a 1D vector). We recommend you to flatten the observation to have only a 1D vector or use a custom policy to properly process the data.\n",
      "  warnings.warn(\n"
     ]
    },
    {
     "ename": "ValueError",
     "evalue": "Action 3859 out of bounds for 17 choices",
     "output_type": "error",
     "traceback": [
      "\u001b[31m---------------------------------------------------------------------------\u001b[39m",
      "\u001b[31mValueError\u001b[39m                                Traceback (most recent call last)",
      "\u001b[36mCell\u001b[39m\u001b[36m \u001b[39m\u001b[32mIn[5]\u001b[39m\u001b[32m, line 1\u001b[39m\n\u001b[32m----> \u001b[39m\u001b[32m1\u001b[39m \u001b[43mcheck_env\u001b[49m\u001b[43m(\u001b[49m\u001b[43menv\u001b[49m\u001b[43m)\u001b[49m\n",
      "\u001b[36mFile \u001b[39m\u001b[32mc:\\Users\\andra\\anaconda3\\envs\\RLenv\\Lib\\site-packages\\stable_baselines3\\common\\env_checker.py:482\u001b[39m, in \u001b[36mcheck_env\u001b[39m\u001b[34m(env, warn, skip_render_check)\u001b[39m\n\u001b[32m    479\u001b[39m     \u001b[38;5;28;01mreturn\u001b[39;00m\n\u001b[32m    481\u001b[39m \u001b[38;5;66;03m# ============ Check the returned values ===============\u001b[39;00m\n\u001b[32m--> \u001b[39m\u001b[32m482\u001b[39m \u001b[43m_check_returned_values\u001b[49m\u001b[43m(\u001b[49m\u001b[43menv\u001b[49m\u001b[43m,\u001b[49m\u001b[43m \u001b[49m\u001b[43mobservation_space\u001b[49m\u001b[43m,\u001b[49m\u001b[43m \u001b[49m\u001b[43maction_space\u001b[49m\u001b[43m)\u001b[49m\n\u001b[32m    484\u001b[39m \u001b[38;5;66;03m# ==== Check the render method and the declared render modes ====\u001b[39;00m\n\u001b[32m    485\u001b[39m \u001b[38;5;28;01mif\u001b[39;00m \u001b[38;5;129;01mnot\u001b[39;00m skip_render_check:\n",
      "\u001b[36mFile \u001b[39m\u001b[32mc:\\Users\\andra\\anaconda3\\envs\\RLenv\\Lib\\site-packages\\stable_baselines3\\common\\env_checker.py:313\u001b[39m, in \u001b[36m_check_returned_values\u001b[39m\u001b[34m(env, observation_space, action_space)\u001b[39m\n\u001b[32m    311\u001b[39m \u001b[38;5;66;03m# Sample a random action\u001b[39;00m\n\u001b[32m    312\u001b[39m action = action_space.sample()\n\u001b[32m--> \u001b[39m\u001b[32m313\u001b[39m data = \u001b[43menv\u001b[49m\u001b[43m.\u001b[49m\u001b[43mstep\u001b[49m\u001b[43m(\u001b[49m\u001b[43maction\u001b[49m\u001b[43m)\u001b[49m\n\u001b[32m    315\u001b[39m \u001b[38;5;28;01massert\u001b[39;00m \u001b[38;5;28mlen\u001b[39m(data) == \u001b[32m5\u001b[39m, (\n\u001b[32m    316\u001b[39m     \u001b[33m\"\u001b[39m\u001b[33mThe `step()` method must return five values: \u001b[39m\u001b[33m\"\u001b[39m\n\u001b[32m    317\u001b[39m     \u001b[33mf\u001b[39m\u001b[33m\"\u001b[39m\u001b[33mobs, reward, terminated, truncated, info. Actual: \u001b[39m\u001b[38;5;132;01m{\u001b[39;00m\u001b[38;5;28mlen\u001b[39m(data)\u001b[38;5;132;01m}\u001b[39;00m\u001b[33m values returned.\u001b[39m\u001b[33m\"\u001b[39m\n\u001b[32m    318\u001b[39m )\n\u001b[32m    320\u001b[39m \u001b[38;5;66;03m# Unpack\u001b[39;00m\n",
      "\u001b[36mFile \u001b[39m\u001b[32mc:\\Users\\andra\\Documents\\ChessFinalistMCTS\\notebooks\\../src\\games\\game_utils.py:117\u001b[39m, in \u001b[36mGymEnvFromGameAndPlayer2.step\u001b[39m\u001b[34m(self, action)\u001b[39m\n\u001b[32m    115\u001b[39m \u001b[38;5;66;03m# Decode action into domain action if needed\u001b[39;00m\n\u001b[32m    116\u001b[39m valid_actions = \u001b[38;5;28mself\u001b[39m.game.actions(\u001b[38;5;28mself\u001b[39m.state)\n\u001b[32m--> \u001b[39m\u001b[32m117\u001b[39m domain_action: A = \u001b[38;5;28;43mself\u001b[39;49m\u001b[43m.\u001b[49m\u001b[43m_decode_action\u001b[49m\u001b[43m(\u001b[49m\u001b[43maction\u001b[49m\u001b[43m,\u001b[49m\u001b[43m \u001b[49m\u001b[43mvalid_actions\u001b[49m\u001b[43m)\u001b[49m\n\u001b[32m    119\u001b[39m \u001b[38;5;66;03m# --- Agent move ---\u001b[39;00m\n\u001b[32m    120\u001b[39m \u001b[38;5;28;01mtry\u001b[39;00m:\n",
      "\u001b[36mFile \u001b[39m\u001b[32mc:\\Users\\andra\\Documents\\ChessFinalistMCTS\\notebooks\\../src\\games\\game_utils.py:184\u001b[39m, in \u001b[36mGymEnvFromGameAndPlayer2._decode_action\u001b[39m\u001b[34m(self, action_any, valid_actions)\u001b[39m\n\u001b[32m    178\u001b[39m \u001b[38;5;250m\u001b[39m\u001b[33;03m\"\"\"\u001b[39;00m\n\u001b[32m    179\u001b[39m \u001b[33;03mDecode an external (e.g., int) action into a domain action using the encoder.\u001b[39;00m\n\u001b[32m    180\u001b[39m \u001b[33;03mIf the encoder has a `decode_action`, use it; else assume the action is already A.\u001b[39;00m\n\u001b[32m    181\u001b[39m \u001b[33;03m\"\"\"\u001b[39;00m\n\u001b[32m    182\u001b[39m \u001b[38;5;28;01mif\u001b[39;00m \u001b[38;5;28mhasattr\u001b[39m(\u001b[38;5;28mself\u001b[39m.encoder, \u001b[33m\"\u001b[39m\u001b[33mdecode_action\u001b[39m\u001b[33m\"\u001b[39m):\n\u001b[32m    183\u001b[39m     \u001b[38;5;66;03m# type: ignore[attr-defined]\u001b[39;00m\n\u001b[32m--> \u001b[39m\u001b[32m184\u001b[39m     \u001b[38;5;28;01mreturn\u001b[39;00m \u001b[38;5;28;43mself\u001b[39;49m\u001b[43m.\u001b[49m\u001b[43mencoder\u001b[49m\u001b[43m.\u001b[49m\u001b[43mdecode_action\u001b[49m\u001b[43m(\u001b[49m\u001b[43maction_any\u001b[49m\u001b[43m,\u001b[49m\u001b[43m \u001b[49m\u001b[43mvalid_actions\u001b[49m\u001b[43m)\u001b[49m  \u001b[38;5;66;03m# type: ignore[return-value]\u001b[39;00m\n\u001b[32m    185\u001b[39m \u001b[38;5;66;03m# Fallback: assume action_any is already a valid domain action\u001b[39;00m\n\u001b[32m    186\u001b[39m \u001b[38;5;28;01mreturn\u001b[39;00m action_any\n",
      "\u001b[36mFile \u001b[39m\u001b[32mc:\\Users\\andra\\Documents\\ChessFinalistMCTS\\notebooks\\../src\\agents\\utils.py:109\u001b[39m, in \u001b[36mChessEncoder.decode_action\u001b[39m\u001b[34m(self, action, valid_actions)\u001b[39m\n\u001b[32m    103\u001b[39m \u001b[38;5;250m\u001b[39m\u001b[33;03m\"\"\"\u001b[39;00m\n\u001b[32m    104\u001b[39m \u001b[33;03mDecode a Gym action (int index) into a domain action.\u001b[39;00m\n\u001b[32m    105\u001b[39m \n\u001b[32m    106\u001b[39m \u001b[33;03mBy default, returns valid_actions[action].\u001b[39;00m\n\u001b[32m    107\u001b[39m \u001b[33;03m\"\"\"\u001b[39;00m\n\u001b[32m    108\u001b[39m \u001b[38;5;28;01mif\u001b[39;00m \u001b[38;5;129;01mnot\u001b[39;00m (\u001b[32m0\u001b[39m <= action < \u001b[38;5;28mlen\u001b[39m(valid_actions)):\n\u001b[32m--> \u001b[39m\u001b[32m109\u001b[39m     \u001b[38;5;28;01mraise\u001b[39;00m \u001b[38;5;167;01mValueError\u001b[39;00m(\u001b[33mf\u001b[39m\u001b[33m\"\u001b[39m\u001b[33mAction \u001b[39m\u001b[38;5;132;01m{\u001b[39;00maction\u001b[38;5;132;01m}\u001b[39;00m\u001b[33m out of bounds for \u001b[39m\u001b[38;5;132;01m{\u001b[39;00m\u001b[38;5;28mlen\u001b[39m(valid_actions)\u001b[38;5;132;01m}\u001b[39;00m\u001b[33m choices\u001b[39m\u001b[33m\"\u001b[39m)\n\u001b[32m    110\u001b[39m \u001b[38;5;28;01mreturn\u001b[39;00m valid_actions[action]\n",
      "\u001b[31mValueError\u001b[39m: Action 3859 out of bounds for 17 choices"
     ]
    }
   ],
   "source": [
    "check_env(env)"
   ]
  }
 ],
 "metadata": {
  "kernelspec": {
   "display_name": "RLenv",
   "language": "python",
   "name": "python3"
  },
  "language_info": {
   "codemirror_mode": {
    "name": "ipython",
    "version": 3
   },
   "file_extension": ".py",
   "mimetype": "text/x-python",
   "name": "python",
   "nbconvert_exporter": "python",
   "pygments_lexer": "ipython3",
   "version": "3.13.2"
  }
 },
 "nbformat": 4,
 "nbformat_minor": 5
}
