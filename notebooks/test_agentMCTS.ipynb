{
 "cells": [
  {
   "cell_type": "markdown",
   "id": "95453efc",
   "metadata": {},
   "source": [
    "# Test agent"
   ]
  },
  {
   "cell_type": "code",
   "execution_count": null,
   "id": "8d2b4ebf",
   "metadata": {},
   "outputs": [],
   "source": [
    "import numpy as np\n",
    "from numpy.random import default_rng\n",
    "\n",
    "from chess import Board\n",
    "from IPython.display import Image, display\n",
    "from stable_baselines3.common.env_checker import check_env\n",
    "\n",
    "import sys\n",
    "\n",
    "sys.path.append('../src')\n",
    "\n",
    "from games.chess import KRK\n",
    "from mcts.trees import GameSearchTree\n",
    "from agents.utils import SimpleEncoder\n",
    "from agents.random_policy import GameUniformPolicy\n",
    "from games.game_utils import GymEnvFromGameAndPlayer2"
   ]
  },
  {
   "cell_type": "markdown",
   "id": "c743eaad",
   "metadata": {},
   "source": [
    "### Initialize game and other agent"
   ]
  },
  {
   "cell_type": "code",
   "execution_count": 2,
   "id": "fc833506",
   "metadata": {},
   "outputs": [],
   "source": [
    "seed = 4\n",
    "rng = default_rng(seed)"
   ]
  },
  {
   "cell_type": "code",
   "execution_count": 3,
   "id": "ad8ccad0",
   "metadata": {},
   "outputs": [],
   "source": [
    "game = KRK(start_position=1)\n",
    "pl2 = GameUniformPolicy(\n",
    "    game=game,\n",
    "    rng=rng\n",
    ")"
   ]
  },
  {
   "cell_type": "code",
   "execution_count": 4,
   "id": "dcd6d656",
   "metadata": {},
   "outputs": [],
   "source": [
    "env = GymEnvFromGameAndPlayer2(\n",
    "    game=game,\n",
    "    other_player=pl2,\n",
    "    encoder=SimpleEncoder(n_actions=64, obs_shape=(2,))\n",
    ")"
   ]
  },
  {
   "cell_type": "code",
   "execution_count": 5,
   "id": "bf80cc70",
   "metadata": {},
   "outputs": [
    {
     "ename": "AttributeError",
     "evalue": "'GameUniformPolicy' object has no attribute 'reset'",
     "output_type": "error",
     "traceback": [
      "\u001b[31m---------------------------------------------------------------------------\u001b[39m",
      "\u001b[31mAttributeError\u001b[39m                            Traceback (most recent call last)",
      "\u001b[36mCell\u001b[39m\u001b[36m \u001b[39m\u001b[32mIn[5]\u001b[39m\u001b[32m, line 1\u001b[39m\n\u001b[32m----> \u001b[39m\u001b[32m1\u001b[39m \u001b[43mcheck_env\u001b[49m\u001b[43m(\u001b[49m\u001b[43menv\u001b[49m\u001b[43m)\u001b[49m\n",
      "\u001b[36mFile \u001b[39m\u001b[32mc:\\Users\\andra\\anaconda3\\envs\\RLenv\\Lib\\site-packages\\stable_baselines3\\common\\env_checker.py:442\u001b[39m, in \u001b[36mcheck_env\u001b[39m\u001b[34m(env, warn, skip_render_check)\u001b[39m\n\u001b[32m    439\u001b[39m action_space = env.action_space\n\u001b[32m    441\u001b[39m \u001b[38;5;28;01mtry\u001b[39;00m:\n\u001b[32m--> \u001b[39m\u001b[32m442\u001b[39m     \u001b[43menv\u001b[49m\u001b[43m.\u001b[49m\u001b[43mreset\u001b[49m\u001b[43m(\u001b[49m\u001b[43mseed\u001b[49m\u001b[43m=\u001b[49m\u001b[32;43m0\u001b[39;49m\u001b[43m)\u001b[49m\n\u001b[32m    443\u001b[39m \u001b[38;5;28;01mexcept\u001b[39;00m \u001b[38;5;167;01mTypeError\u001b[39;00m \u001b[38;5;28;01mas\u001b[39;00m e:\n\u001b[32m    444\u001b[39m     \u001b[38;5;28;01mraise\u001b[39;00m \u001b[38;5;167;01mTypeError\u001b[39;00m(\u001b[33m\"\u001b[39m\u001b[33mThe reset() method must accept a `seed` parameter\u001b[39m\u001b[33m\"\u001b[39m) \u001b[38;5;28;01mfrom\u001b[39;00m\u001b[38;5;250m \u001b[39m\u001b[34;01me\u001b[39;00m\n",
      "\u001b[36mFile \u001b[39m\u001b[32mc:\\Users\\andra\\Documents\\ChessFinalistMCTS\\notebooks\\../src\\games\\game_utils.py:103\u001b[39m, in \u001b[36mGymEnvFromGameAndPlayer2.reset\u001b[39m\u001b[34m(self, seed, options)\u001b[39m\n\u001b[32m    100\u001b[39m \u001b[38;5;28mself\u001b[39m._steps = \u001b[32m0\u001b[39m\n\u001b[32m    102\u001b[39m \u001b[38;5;66;03m# Opponent reset + initial bookkeeping\u001b[39;00m\n\u001b[32m--> \u001b[39m\u001b[32m103\u001b[39m \u001b[38;5;28;43mself\u001b[39;49m\u001b[43m.\u001b[49m\u001b[43mother_player\u001b[49m\u001b[43m.\u001b[49m\u001b[43mreset\u001b[49m()\n\u001b[32m    104\u001b[39m \u001b[38;5;28;01mif\u001b[39;00m \u001b[38;5;129;01mnot\u001b[39;00m \u001b[38;5;28mhasattr\u001b[39m(\u001b[38;5;28mself\u001b[39m.other_player, \u001b[33m\"\u001b[39m\u001b[33mstates\u001b[39m\u001b[33m\"\u001b[39m) \u001b[38;5;129;01mor\u001b[39;00m \u001b[38;5;28mself\u001b[39m.other_player.states \u001b[38;5;129;01mis\u001b[39;00m \u001b[38;5;28;01mNone\u001b[39;00m:\n\u001b[32m    105\u001b[39m     \u001b[38;5;28mself\u001b[39m.other_player.states = []  \u001b[38;5;66;03m# type: ignore[attr-defined]\u001b[39;00m\n",
      "\u001b[31mAttributeError\u001b[39m: 'GameUniformPolicy' object has no attribute 'reset'"
     ]
    }
   ],
   "source": [
    "check_env(env)"
   ]
  }
 ],
 "metadata": {
  "kernelspec": {
   "display_name": "RLenv",
   "language": "python",
   "name": "python3"
  },
  "language_info": {
   "codemirror_mode": {
    "name": "ipython",
    "version": 3
   },
   "file_extension": ".py",
   "mimetype": "text/x-python",
   "name": "python",
   "nbconvert_exporter": "python",
   "pygments_lexer": "ipython3",
   "version": "3.13.2"
  }
 },
 "nbformat": 4,
 "nbformat_minor": 5
}
