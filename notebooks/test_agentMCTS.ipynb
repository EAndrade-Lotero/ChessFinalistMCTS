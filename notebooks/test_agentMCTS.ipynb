{
 "cells": [
  {
   "cell_type": "markdown",
   "id": "95453efc",
   "metadata": {},
   "source": [
    "# Test agent"
   ]
  },
  {
   "cell_type": "code",
   "execution_count": 20,
   "id": "8d2b4ebf",
   "metadata": {},
   "outputs": [],
   "source": [
    "import numpy as np\n",
    "from numpy.random import default_rng\n",
    "\n",
    "from chess import Board\n",
    "from IPython.display import Image, display\n",
    "from stable_baselines3.common.env_checker import check_env\n",
    "\n",
    "import sys\n",
    "\n",
    "sys.path.append('../src')\n",
    "\n",
    "from games.chess import KRK\n",
    "from games.chambon_chess import Board, Move\n",
    "from agents.utils import ChessEncoder\n",
    "from agents.random_agent import RandomAgent\n",
    "from agents.random_policy import GameUniformPolicy\n",
    "from games.game_utils import GymEnvFromGameAndPlayer2"
   ]
  },
  {
   "cell_type": "code",
   "execution_count": 4,
   "id": "3a4504e2",
   "metadata": {},
   "outputs": [
    {
     "name": "stdout",
     "output_type": "stream",
     "text": [
      ". . . . . . . .\n",
      ". . . . . . . .\n",
      ". . . . . . . .\n",
      ". . . . . . . .\n",
      ". . . . . . . .\n",
      ". . R . . . . .\n",
      ". . K . . . . .\n",
      "k . . . . . . .\n"
     ]
    }
   ],
   "source": [
    "env = KRK()\n",
    "state = env.initial_state\n",
    "encoder = ChessEncoder()\n",
    "tablero = encoder.encode_obs(state)\n",
    "print(tablero)"
   ]
  },
  {
   "cell_type": "code",
   "execution_count": null,
   "id": "c3127083",
   "metadata": {},
   "outputs": [
    {
     "name": "stdout",
     "output_type": "stream",
     "text": [
      "action=Move.from_uci('c3d3')\n",
      "coded_index=18\n",
      "coded_index=19\n",
      "casillas=[(np.int64(2), np.int64(2)), (np.int64(2), np.int64(3))]\n"
     ]
    }
   ],
   "source": [
    "from typing import Tuple\n",
    "\n",
    "def casillas_desde_hasta(action: Move) -> Tuple[int, int]:\n",
    "    print(f\"{action=}\")\n",
    "\n",
    "    coded_index = action.from_square\n",
    "    print(f\"{coded_index=}\")\n",
    "    from_index_pair = np.unravel_index(coded_index, (8,8))\n",
    "\n",
    "    coded_index = action.to_square\n",
    "    print(f\"{coded_index=}\")\n",
    "    to_index_pair = np.unravel_index(coded_index, (8,8))\n",
    "\n",
    "    casillas = [from_index_pair, to_index_pair]\n",
    "    return casillas\n",
    "\n",
    "action = Move.from_uci('c3d3')\n",
    "casillas = casillas_desde_hasta(action)\n",
    "print(f\"{casillas=}\")\n"
   ]
  },
  {
   "cell_type": "code",
   "execution_count": null,
   "id": "30becb70",
   "metadata": {},
   "outputs": [],
   "source": []
  },
  {
   "cell_type": "markdown",
   "id": "c743eaad",
   "metadata": {},
   "source": [
    "### Initialize game and other agent"
   ]
  },
  {
   "cell_type": "code",
   "execution_count": null,
   "id": "fc833506",
   "metadata": {},
   "outputs": [],
   "source": [
    "seed = 4\n",
    "rng = default_rng(seed)"
   ]
  },
  {
   "cell_type": "code",
   "execution_count": null,
   "id": "ad8ccad0",
   "metadata": {},
   "outputs": [],
   "source": [
    "# game = KRK(start_position=1)\n",
    "random_policy = GameUniformPolicy(game, rng)\n",
    "pl2 = RandomAgent(\n",
    "    policy=random_policy,\n",
    "    n_actions=124,\n",
    "    rng=rng\n",
    ")"
   ]
  },
  {
   "cell_type": "code",
   "execution_count": null,
   "id": "dcd6d656",
   "metadata": {},
   "outputs": [],
   "source": [
    "env = GymEnvFromGameAndPlayer2(\n",
    "    game=game,\n",
    "    other_player=pl2,\n",
    "    encoder=ChessEncoder()\n",
    ")"
   ]
  },
  {
   "cell_type": "code",
   "execution_count": null,
   "id": "bf80cc70",
   "metadata": {},
   "outputs": [],
   "source": [
    "check_env(env)"
   ]
  }
 ],
 "metadata": {
  "kernelspec": {
   "display_name": "RLenv",
   "language": "python",
   "name": "python3"
  },
  "language_info": {
   "codemirror_mode": {
    "name": "ipython",
    "version": 3
   },
   "file_extension": ".py",
   "mimetype": "text/x-python",
   "name": "python",
   "nbconvert_exporter": "python",
   "pygments_lexer": "ipython3",
   "version": "3.13.2"
  }
 },
 "nbformat": 4,
 "nbformat_minor": 5
}
